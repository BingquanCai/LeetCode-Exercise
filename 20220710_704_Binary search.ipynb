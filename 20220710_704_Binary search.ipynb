{
 "cells": [
  {
   "cell_type": "markdown",
   "id": "b7fffd42",
   "metadata": {},
   "source": [
    "# 704. 二分查找 (Binary search)"
   ]
  },
  {
   "cell_type": "markdown",
   "id": "396c94f0",
   "metadata": {},
   "source": [
    "给定一个 n 个元素有序的（升序）整型数组 nums 和一个目标值 target  ，写一个函数搜索 nums 中的 target，如果目标值存在返回下标，否则返回 -1。\n",
    "\n",
    "Given an array of integers nums which is sorted in ascending order, and an integer target, write a function to search target in nums. If target exists, then return its index. Otherwise, return -1."
   ]
  },
  {
   "cell_type": "code",
   "execution_count": 19,
   "id": "64e8727e",
   "metadata": {},
   "outputs": [],
   "source": [
    "from typing import List\n",
    "class Solution:\n",
    "    def search(self, nums: List[int], target: int) -> int:\n",
    "        left = 0\n",
    "        right = len(nums) - 1\n",
    "        while (left <= right):\n",
    "            middle = (left + right) // 2\n",
    "\n",
    "            if nums[middle] < target:\n",
    "                left = middle + 1\n",
    "            elif nums[middle] > target:\n",
    "                right = middle - 1\n",
    "            else:\n",
    "                return middle\n",
    "\n",
    "        return -1"
   ]
  },
  {
   "cell_type": "code",
   "execution_count": 21,
   "id": "a175f477",
   "metadata": {},
   "outputs": [
    {
     "data": {
      "text/plain": [
       "4"
      ]
     },
     "execution_count": 21,
     "metadata": {},
     "output_type": "execute_result"
    }
   ],
   "source": [
    "Solution().search(nums = [-1,0,3,5,9,12], target = 9)"
   ]
  },
  {
   "cell_type": "markdown",
   "id": "b2e88a53",
   "metadata": {},
   "source": [
    "解释: 9 出现在 nums 中并且下标为 4"
   ]
  },
  {
   "cell_type": "code",
   "execution_count": 23,
   "id": "f2de91d6",
   "metadata": {},
   "outputs": [
    {
     "data": {
      "text/plain": [
       "-1"
      ]
     },
     "execution_count": 23,
     "metadata": {},
     "output_type": "execute_result"
    }
   ],
   "source": [
    "Solution().search(nums = [-1,0,3,5,9,12], target = 2)"
   ]
  },
  {
   "cell_type": "markdown",
   "id": "5b2e5cab",
   "metadata": {},
   "source": [
    "解释: 2 不存在 nums 中因此返回 -1"
   ]
  }
 ],
 "metadata": {
  "kernelspec": {
   "display_name": "Python 3",
   "language": "python",
   "name": "python3"
  },
  "language_info": {
   "codemirror_mode": {
    "name": "ipython",
    "version": 3
   },
   "file_extension": ".py",
   "mimetype": "text/x-python",
   "name": "python",
   "nbconvert_exporter": "python",
   "pygments_lexer": "ipython3",
   "version": "3.8.8"
  }
 },
 "nbformat": 4,
 "nbformat_minor": 5
}
